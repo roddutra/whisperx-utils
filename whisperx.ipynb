{
 "cells": [
  {
   "cell_type": "markdown",
   "metadata": {},
   "source": [
    "# Extract audio as an mp3 file from a video file\n"
   ]
  },
  {
   "cell_type": "code",
   "execution_count": 1,
   "metadata": {},
   "outputs": [],
   "source": [
    "import moviepy.editor as mp"
   ]
  },
  {
   "cell_type": "code",
   "execution_count": 3,
   "metadata": {},
   "outputs": [
    {
     "name": "stdout",
     "output_type": "stream",
     "text": [
      "MoviePy - Writing audio in ./source_files/michael-ad-advisory_2024-03-26/michael-ad-advisory_2024-03-26.mp3\n"
     ]
    },
    {
     "name": "stderr",
     "output_type": "stream",
     "text": [
      "                                                                        "
     ]
    },
    {
     "name": "stdout",
     "output_type": "stream",
     "text": [
      "MoviePy - Done.\n",
      "Audio extracted and saved as ./source_files/michael-ad-advisory_2024-03-26/michael-ad-advisory_2024-03-26.mp3\n",
      "CPU times: user 7.34 s, sys: 1.04 s, total: 8.38 s\n",
      "Wall time: 23.7 s\n"
     ]
    },
    {
     "name": "stderr",
     "output_type": "stream",
     "text": [
      "\r"
     ]
    }
   ],
   "source": [
    "# Function to extract audio from video and save as mp3 in a folder named after the source file inside the ./source_files/ folder\n",
    "import os\n",
    "import re\n",
    "\n",
    "\n",
    "def extract_audio_from_video(video_path):\n",
    "    # Load the video file\n",
    "    video_clip = mp.VideoFileClip(video_path)\n",
    "\n",
    "    # Extract audio from the video\n",
    "    audio_clip = video_clip.audio\n",
    "\n",
    "    # Extract the base name without the file extension\n",
    "    base_name = os.path.basename(video_path)\n",
    "    base_name_without_ext = re.sub(r\"\\.[^.]+$\", \"\", base_name)\n",
    "\n",
    "    # Create the directory path\n",
    "    directory_path = f\"./source_files/{base_name_without_ext}/\"\n",
    "\n",
    "    # Create the directory if it does not exist\n",
    "    os.makedirs(directory_path, exist_ok=True)\n",
    "\n",
    "    # Generate the mp3 filename by setting the correct path within the new directory\n",
    "    mp3_filename = f\"{directory_path}{base_name_without_ext}.mp3\"\n",
    "\n",
    "    # Save the audio clip as an mp3 file\n",
    "    audio_clip.write_audiofile(mp3_filename)\n",
    "\n",
    "    # Close the clips\n",
    "    video_clip.close()\n",
    "    audio_clip.close()\n",
    "\n",
    "    print(f\"Audio extracted and saved as {mp3_filename}\")\n",
    "\n",
    "    return mp3_filename\n",
    "\n",
    "\n",
    "%time full_audio_path = extract_audio_from_video(\"INSERT_VIDEO_PATH_HERE\")"
   ]
  },
  {
   "cell_type": "markdown",
   "metadata": {},
   "source": [
    "# Create a trimmed version of an audio file for testing purposes\n"
   ]
  },
  {
   "cell_type": "code",
   "execution_count": 4,
   "metadata": {},
   "outputs": [
    {
     "name": "stdout",
     "output_type": "stream",
     "text": [
      "MoviePy - Writing audio in ./source_files/michael-ad-advisory_2024-03-26/trimmed/michael-ad-advisory_2024-03-26_trimmed.mp3\n"
     ]
    },
    {
     "name": "stderr",
     "output_type": "stream",
     "text": [
      "                                                                      "
     ]
    },
    {
     "name": "stdout",
     "output_type": "stream",
     "text": [
      "MoviePy - Done.\n",
      "Trimmed audio saved as ./source_files/michael-ad-advisory_2024-03-26/trimmed/michael-ad-advisory_2024-03-26_trimmed.mp3\n",
      "CPU times: user 320 ms, sys: 59.9 ms, total: 380 ms\n",
      "Wall time: 966 ms\n"
     ]
    },
    {
     "name": "stderr",
     "output_type": "stream",
     "text": [
      "\r"
     ]
    }
   ],
   "source": [
    "def trim_audio(audio_path, duration=120):\n",
    "    # Load the audio file\n",
    "    audio_clip = mp.AudioFileClip(audio_path)\n",
    "\n",
    "    # Trim the audio to the first 2 minutes (120 seconds)\n",
    "    trimmed_clip = audio_clip.subclip(0, duration)\n",
    "\n",
    "    # Generate the directory path for the trimmed file\n",
    "    directory_path = os.path.dirname(audio_path)\n",
    "    trimmed_directory = os.path.join(directory_path, \"trimmed\")\n",
    "\n",
    "    # Create the trimmed directory if it does not exist\n",
    "    os.makedirs(trimmed_directory, exist_ok=True)\n",
    "\n",
    "    # Generate the trimmed filename by appending '_trimmed' before the extension\n",
    "    base_name = os.path.basename(audio_path)\n",
    "    trimmed_filename = base_name.replace(\".mp3\", \"_trimmed.mp3\")\n",
    "    trimmed_file_path = os.path.join(trimmed_directory, trimmed_filename)\n",
    "\n",
    "    # Save the trimmed audio clip\n",
    "    trimmed_clip.write_audiofile(trimmed_file_path)\n",
    "\n",
    "    # Close the clip\n",
    "    trimmed_clip.close()\n",
    "\n",
    "    print(f\"Trimmed audio saved as {trimmed_file_path}\")\n",
    "\n",
    "    return trimmed_file_path\n",
    "\n",
    "\n",
    "%time trimmed_path = trim_audio(full_audio_path, duration=120)"
   ]
  },
  {
   "cell_type": "markdown",
   "metadata": {},
   "source": [
    "# Run WhisperX on the audio file to generate a transcript\n"
   ]
  },
  {
   "cell_type": "code",
   "execution_count": 5,
   "metadata": {},
   "outputs": [
    {
     "name": "stdout",
     "output_type": "stream",
     "text": [
      "torchvision is not available - cannot save figures\n",
      "Lightning automatically upgraded your loaded checkpoint from v1.5.4 to v2.2.0. To apply the upgrade to your files permanently, run `python -m pytorch_lightning.utilities.upgrade_checkpoint ../../../.cache/torch/whisperx-vad-segmentation.bin`\n",
      "Model was trained with pyannote.audio 0.0.1, yours is 3.1.1. Bad things might happen unless you revert pyannote.audio to 0.x.\n",
      "Model was trained with torch 1.10.0+cu102, yours is 2.0.0. Bad things might happen unless you revert torch to 1.x.\n",
      ">>Performing transcription...\n",
      "Progress: 25.00%...\n",
      "Progress: 50.00%...\n",
      "Progress: 75.00%...\n",
      "Progress: 100.00%...\n",
      ">>Performing alignment...\n",
      "Progress: 25.00%...\n",
      "Progress: 50.00%...\n",
      "Progress: 75.00%...\n",
      "Progress: 100.00%...\n",
      ">>Performing diarization...\n",
      "WhisperX processing time: 142.14 seconds\n"
     ]
    }
   ],
   "source": [
    "import os\n",
    "import time\n",
    "\n",
    "# Retrieve the Hugging Face token from environment variables\n",
    "hf_token = os.getenv('HUGGINGFACE_TOKEN')\n",
    "\n",
    "# Choose the path for the audio file to process\n",
    "# path = trimmed_path  # Use the trimmed audio path\n",
    "path = full_audio_path  # Use the full audio path (comment out the line above and uncomment this line to use the full path)\n",
    "\n",
    "# Extract the base directory name from the audio path to create a corresponding output directory\n",
    "base_dir_name = os.path.basename(os.path.dirname(os.path.dirname(path)))\n",
    "output_dir = os.path.join('./outputs', base_dir_name, 'trimmed')\n",
    "\n",
    "# Create the output directory if it does not exist\n",
    "os.makedirs(output_dir, exist_ok=True)\n",
    "\n",
    "# Run WhisperX with the specified parameters and output directory and track the time taken\n",
    "start_time = time.time()\n",
    "\n",
    "!whisperx $path --compute_type int8 --diarize --min_speakers 2 --max_speakers 3 --language en --hf_token $hf_token --output_dir $output_dir --print_progress True\n",
    "\n",
    "end_time = time.time()\n",
    "elapsed_time = end_time - start_time\n",
    "print(f\"WhisperX processing time: {int(elapsed_time // 3600)}h {(int(elapsed_time) % 3600) // 60}m {int(elapsed_time) % 60}s {int((elapsed_time - int(elapsed_time)) * 1000)}ms\")\n"
   ]
  },
  {
   "cell_type": "code",
   "execution_count": null,
   "metadata": {},
   "outputs": [],
   "source": []
  }
 ],
 "metadata": {
  "kernelspec": {
   "display_name": "whisperx",
   "language": "python",
   "name": "python3"
  },
  "language_info": {
   "codemirror_mode": {
    "name": "ipython",
    "version": 3
   },
   "file_extension": ".py",
   "mimetype": "text/x-python",
   "name": "python",
   "nbconvert_exporter": "python",
   "pygments_lexer": "ipython3",
   "version": "3.10.13"
  }
 },
 "nbformat": 4,
 "nbformat_minor": 2
}
